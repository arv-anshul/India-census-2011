{
 "cells": [
  {
   "cell_type": "code",
   "execution_count": 5,
   "metadata": {},
   "outputs": [],
   "source": [
    "import pandas as pd"
   ]
  },
  {
   "cell_type": "markdown",
   "metadata": {},
   "source": [
    "# District Dataset"
   ]
  },
  {
   "cell_type": "code",
   "execution_count": 10,
   "metadata": {},
   "outputs": [],
   "source": [
    "# This file has all states and UT of india with 2001 and 2011 pops.\n",
    "dist_pop_01_11 = pd.read_csv(\n",
    "    'data_files/raw_data/district wise population for year 2001 and 2011.csv')"
   ]
  },
  {
   "cell_type": "code",
   "execution_count": 88,
   "metadata": {},
   "outputs": [],
   "source": [
    "dist_pop_01_11.rename(columns={\n",
    "    'Population in 2001': '2001',\n",
    "    'Population in 2011': '2011'\n",
    "}, inplace=True)\n",
    "dist_pop_01_11.columns = dist_pop_01_11.columns.str.lower()"
   ]
  },
  {
   "cell_type": "markdown",
   "metadata": {},
   "source": [
    "## Some conclusions:\n",
    "- `District` column has 5 duplicated values because some district names are present in other states also. **And this is not a problem**.\n"
   ]
  },
  {
   "cell_type": "markdown",
   "metadata": {},
   "source": [
    "## Additional Features:\n",
    "- Calculate the percentage of growth in population in 10 years as `(2011/2001) * 100`.\n",
    "- Calculate the actual growth in population in 10 years as `2011 - 2001`.\n",
    "- Per year poplation growth `(2011-2001) / 10`."
   ]
  },
  {
   "cell_type": "code",
   "execution_count": 6,
   "metadata": {},
   "outputs": [],
   "source": [
    "# Population growth in 10 growth\n",
    "dist_pop_01_11['pop_growth'] = dist_pop_01_11['2011'].sub(dist_pop_01_11['2001'])"
   ]
  },
  {
   "cell_type": "code",
   "execution_count": 4,
   "metadata": {},
   "outputs": [],
   "source": [
    "# Population growth in percentage(%)\n",
    "dist_pop_01_11['pct_growth'] = ((dist_pop_01_11['2011'].sub(dist_pop_01_11['2001']) / dist_pop_01_11['2001'])\n",
    "                                .mul(100).round().astype('int'))"
   ]
  },
  {
   "cell_type": "code",
   "execution_count": 79,
   "metadata": {},
   "outputs": [
    {
     "data": {
      "text/html": [
       "<div>\n",
       "<style scoped>\n",
       "    .dataframe tbody tr th:only-of-type {\n",
       "        vertical-align: middle;\n",
       "    }\n",
       "\n",
       "    .dataframe tbody tr th {\n",
       "        vertical-align: top;\n",
       "    }\n",
       "\n",
       "    .dataframe thead th {\n",
       "        text-align: right;\n",
       "    }\n",
       "</style>\n",
       "<table border=\"1\" class=\"dataframe\">\n",
       "  <thead>\n",
       "    <tr style=\"text-align: right;\">\n",
       "      <th></th>\n",
       "      <th>State</th>\n",
       "      <th>District</th>\n",
       "      <th>Population in 2001</th>\n",
       "      <th>Population in 2011</th>\n",
       "    </tr>\n",
       "  </thead>\n",
       "  <tbody>\n",
       "    <tr>\n",
       "      <th>0</th>\n",
       "      <td>Andaman &amp; Nicobar Islands</td>\n",
       "      <td>Nicobar</td>\n",
       "      <td>42068</td>\n",
       "      <td>36842</td>\n",
       "    </tr>\n",
       "    <tr>\n",
       "      <th>1</th>\n",
       "      <td>Andaman &amp; Nicobar Islands</td>\n",
       "      <td>North &amp; Middle Andaman</td>\n",
       "      <td>105613</td>\n",
       "      <td>105597</td>\n",
       "    </tr>\n",
       "    <tr>\n",
       "      <th>2</th>\n",
       "      <td>Andaman &amp; Nicobar Islands</td>\n",
       "      <td>South Andaman</td>\n",
       "      <td>208471</td>\n",
       "      <td>238142</td>\n",
       "    </tr>\n",
       "    <tr>\n",
       "      <th>3</th>\n",
       "      <td>Andhra Pradesh</td>\n",
       "      <td>Anantapur</td>\n",
       "      <td>3640478</td>\n",
       "      <td>4081148</td>\n",
       "    </tr>\n",
       "    <tr>\n",
       "      <th>4</th>\n",
       "      <td>Andhra Pradesh</td>\n",
       "      <td>Chittoor</td>\n",
       "      <td>3745875</td>\n",
       "      <td>4174064</td>\n",
       "    </tr>\n",
       "  </tbody>\n",
       "</table>\n",
       "</div>"
      ],
      "text/plain": [
       "                       State                District  Population in 2001  \\\n",
       "0  Andaman & Nicobar Islands                 Nicobar               42068   \n",
       "1  Andaman & Nicobar Islands  North & Middle Andaman              105613   \n",
       "2  Andaman & Nicobar Islands           South Andaman              208471   \n",
       "3             Andhra Pradesh               Anantapur             3640478   \n",
       "4             Andhra Pradesh                Chittoor             3745875   \n",
       "\n",
       "   Population in 2011  \n",
       "0               36842  \n",
       "1              105597  \n",
       "2              238142  \n",
       "3             4081148  \n",
       "4             4174064  "
      ]
     },
     "execution_count": 79,
     "metadata": {},
     "output_type": "execute_result"
    }
   ],
   "source": [
    "dist_pop_01_11.head()"
   ]
  },
  {
   "cell_type": "markdown",
   "metadata": {},
   "source": [
    "### Export the data into CSV formate."
   ]
  },
  {
   "cell_type": "code",
   "execution_count": 9,
   "metadata": {},
   "outputs": [],
   "source": [
    "# dist_pop_01_11.to_csv('data_files/District_pop_with_latlong_01_11.csv', index=False)"
   ]
  },
  {
   "cell_type": "code",
   "execution_count": null,
   "metadata": {},
   "outputs": [],
   "source": []
  },
  {
   "cell_type": "markdown",
   "metadata": {},
   "source": [
    "# --- --- --- --- --- --- ---"
   ]
  },
  {
   "cell_type": "markdown",
   "metadata": {},
   "source": [
    "# District dataset merged with another features"
   ]
  },
  {
   "cell_type": "markdown",
   "metadata": {},
   "source": [
    "## Important columns:\n",
    "\n",
    "After analysis the dataset I found that the most important cols for this project are following:\n",
    "\n",
    "```python\n",
    "use_cols = [\n",
    "    'State name', 'District name', 'Population', 'Male', 'Female', 'Literate',\n",
    "    # Male & Female\n",
    "    'Male_Literate', 'Female_Literate', \n",
    "    # SC & ST Caste\n",
    "    'SC', 'ST',\n",
    "    # Religion\n",
    "    'Hindus', 'Muslims', 'Christians', 'Sikhs', 'Buddhists', 'Jains', 'Others_Religions', 'Religion_Not_Stated', \n",
    "    # Rural and Urban household no.\n",
    "    'Rural_Households', 'Urban_Households',\n",
    "    # Education\n",
    "    'Primary_Education', 'Middle_Education', 'Secondary_Education', 'Higher_Education', 'Graduate_Education',\n",
    "    # Age groups\n",
    "    'Age_Group_0_29', 'Age_Group_30_49', 'Age_Group_50', 'Age not stated',\n",
    "    # Households\n",
    "    'Household_size_1_person_Households', 'Household_size_2_persons_Households', \n",
    "    'Household_size_1_to_2_persons', 'Household_size_3_persons_Households', \n",
    "    'Household_size_3_to_5_persons_Households', 'Household_size_4_persons_Households',\n",
    "]\n",
    "```\n"
   ]
  },
  {
   "cell_type": "code",
   "execution_count": 5,
   "metadata": {},
   "outputs": [],
   "source": [
    "use_cols = [\n",
    "    'State name', 'District name', 'Population', 'Male', 'Female', 'Literate',\n",
    "    # Male & Female\n",
    "    'Male_Literate', 'Female_Literate', \n",
    "    # SC & ST Caste\n",
    "    'SC', 'ST',\n",
    "    # Religion\n",
    "    'Hindus', 'Muslims', 'Christians', 'Sikhs', 'Buddhists', 'Jains', 'Others_Religions', 'Religion_Not_Stated', \n",
    "    # Rural and Urban household no.\n",
    "    'Rural_Households', 'Urban_Households',\n",
    "    # Education\n",
    "    'Primary_Education', 'Middle_Education', 'Secondary_Education', 'Higher_Education', 'Graduate_Education',\n",
    "    # Age groups\n",
    "    'Age_Group_0_29', 'Age_Group_30_49', 'Age_Group_50', 'Age not stated',\n",
    "    # Households\n",
    "    'Household_size_1_person_Households', 'Household_size_2_persons_Households', \n",
    "    'Household_size_1_to_2_persons', 'Household_size_3_persons_Households', \n",
    "    'Household_size_3_to_5_persons_Households', 'Household_size_4_persons_Households',\n",
    "]\n"
   ]
  },
  {
   "cell_type": "code",
   "execution_count": null,
   "metadata": {},
   "outputs": [],
   "source": [
    "ind_dist_11 = pd.read_csv('data_files/raw_data/india-districts-census-2011.csv', usecols=use_cols)\n",
    "ind_dist_11.shape"
   ]
  },
  {
   "cell_type": "code",
   "execution_count": null,
   "metadata": {},
   "outputs": [
    {
     "data": {
      "text/plain": [
       "(594, 4)"
      ]
     },
     "execution_count": 82,
     "metadata": {},
     "output_type": "execute_result"
    }
   ],
   "source": [
    "dist_latlong = pd.read_csv('data_files/raw_data/district wise centroids.csv')\n",
    "dist_latlong.shape"
   ]
  },
  {
   "cell_type": "markdown",
   "metadata": {},
   "source": [
    "### Some important moves for not lossing some data."
   ]
  },
  {
   "cell_type": "code",
   "execution_count": null,
   "metadata": {},
   "outputs": [],
   "source": [
    "# Dataset improvement\n",
    "dist_latlong['District'] = dist_latlong['District'].str.replace(r' \\(.*', '', regex=True)\n",
    "ind_dist_11['District name'] = ind_dist_11['District name'].str.replace(r' \\(.*', '', regex=True)    # +4 cols\n",
    "\n",
    "dist_latlong['District'] = dist_latlong['District'].str.lower()\n",
    "ind_dist_11['District name'] = ind_dist_11['District name'].str.lower()    # +2 cols"
   ]
  },
  {
   "cell_type": "code",
   "execution_count": null,
   "metadata": {},
   "outputs": [],
   "source": [
    "df = dist_latlong.merge(ind_dist_11, 'inner', left_on='District', right_on='District name')"
   ]
  },
  {
   "cell_type": "code",
   "execution_count": null,
   "metadata": {},
   "outputs": [
    {
     "data": {
      "text/plain": [
       "(522, 37)"
      ]
     },
     "execution_count": 87,
     "metadata": {},
     "output_type": "execute_result"
    }
   ],
   "source": [
    "df.shape"
   ]
  },
  {
   "cell_type": "code",
   "execution_count": null,
   "metadata": {},
   "outputs": [],
   "source": [
    "# Drop the cols which contains same data.\n",
    "df.drop(columns=['District name', 'State name'], inplace=True)\n",
    "\n",
    "# Make the District as it is before.\n",
    "df['District'] = df['District'].str.title()"
   ]
  },
  {
   "cell_type": "markdown",
   "metadata": {},
   "source": [
    "### Export the fianl `df`."
   ]
  },
  {
   "cell_type": "code",
   "execution_count": null,
   "metadata": {},
   "outputs": [],
   "source": [
    "# df.to_csv('data_files/India_census_2011.csv', index=False)"
   ]
  },
  {
   "cell_type": "markdown",
   "metadata": {},
   "source": [
    "# Make a States centric data to analyse"
   ]
  },
  {
   "cell_type": "code",
   "execution_count": 10,
   "metadata": {},
   "outputs": [],
   "source": [
    "dist_df = pd.read_csv('../data/District_census_2011.csv')\n",
    "states_centroids = pd.read_csv('../data/raw/state wise centroids_2011.csv')\n",
    "\n",
    "# Make a State centric dataset for analysis of states.\n",
    "state_df = (dist_df.drop(columns=['Latitude', 'Longitude'])\n",
    "            .merge(states_centroids, how='inner', on='State')\n",
    "            .groupby('State')\n",
    "            .sum(numeric_only=True))\n",
    "\n",
    "state_df = (state_df.drop(columns=['Latitude', 'Longitude'])\n",
    "            .merge(states_centroids, how='inner', on='State'))\n",
    "\n",
    "# Export the dataset\n",
    "state_df.to_csv('../data/State_census_2011.csv', index=True)"
   ]
  },
  {
   "cell_type": "code",
   "execution_count": null,
   "metadata": {},
   "outputs": [],
   "source": []
  }
 ],
 "metadata": {
  "kernelspec": {
   "display_name": "Python 3.11.0 64-bit",
   "language": "python",
   "name": "python3"
  },
  "language_info": {
   "codemirror_mode": {
    "name": "ipython",
    "version": 3
   },
   "file_extension": ".py",
   "mimetype": "text/x-python",
   "name": "python",
   "nbconvert_exporter": "python",
   "pygments_lexer": "ipython3",
   "version": "3.11.0"
  },
  "orig_nbformat": 4,
  "vscode": {
   "interpreter": {
    "hash": "aee8b7b246df8f9039afb4144a1f6fd8d2ca17a180786b69acc140d282b71a49"
   }
  }
 },
 "nbformat": 4,
 "nbformat_minor": 2
}
